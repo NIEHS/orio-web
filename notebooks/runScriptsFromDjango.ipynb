{
 "cells": [
  {
   "cell_type": "code",
   "execution_count": null,
   "metadata": {
    "collapsed": true
   },
   "outputs": [],
   "source": [
    "from analysis import models"
   ]
  },
  {
   "cell_type": "code",
   "execution_count": null,
   "metadata": {
    "collapsed": false
   },
   "outputs": [],
   "source": [
    "models.EncodeDataset.objects.count()"
   ]
  },
  {
   "cell_type": "code",
   "execution_count": null,
   "metadata": {
    "collapsed": true
   },
   "outputs": [],
   "source": [
    "from analysis.workflow.matrix import BedMatrix"
   ]
  },
  {
   "cell_type": "code",
   "execution_count": null,
   "metadata": {
    "collapsed": true
   },
   "outputs": [],
   "source": [
    "fl = models.FeatureList.objects.get(id=1)"
   ]
  },
  {
   "cell_type": "code",
   "execution_count": null,
   "metadata": {
    "collapsed": false
   },
   "outputs": [],
   "source": [
    "fl.dataset.path"
   ]
  },
  {
   "cell_type": "code",
   "execution_count": null,
   "metadata": {
    "collapsed": true
   },
   "outputs": [],
   "source": [
    "# no sort vector used"
   ]
  },
  {
   "cell_type": "code",
   "execution_count": null,
   "metadata": {
    "collapsed": false
   },
   "outputs": [],
   "source": [
    "encode = models.EncodeDataset.objects.get(name='wgEncodeUwHistoneA549H3k04me3StdRawRep2')"
   ]
  },
  {
   "cell_type": "code",
   "execution_count": null,
   "metadata": {
    "collapsed": false
   },
   "outputs": [],
   "source": [
    "encode.data_ambiguous.path"
   ]
  },
  {
   "cell_type": "code",
   "execution_count": null,
   "metadata": {
    "collapsed": true
   },
   "outputs": [],
   "source": [
    "outputfn = '/var/www/html/genomics/media/bmTest.txt'\n",
    "outputjson = '/var/www/html/genomics/media/outputJSON.txt'"
   ]
  },
  {
   "cell_type": "markdown",
   "metadata": {},
   "source": [
    "- stranded_bed is boolean based on feature list\n",
    "- stranded_bigwigs is boolean, dataset dependent\n",
    "- opposite_strand_fn is unsued currently"
   ]
  },
  {
   "cell_type": "code",
   "execution_count": null,
   "metadata": {
    "collapsed": false,
    "scrolled": true
   },
   "outputs": [],
   "source": [
    "import os\n",
    "os.path.exists(encode.data_ambiguous.path)\n",
    "print(encode.data_ambiguous.path)"
   ]
  },
  {
   "cell_type": "markdown",
   "metadata": {},
   "source": [
    "Fix path to encode dataset to not use MEDIA_ROOT"
   ]
  },
  {
   "cell_type": "code",
   "execution_count": null,
   "metadata": {
    "collapsed": false
   },
   "outputs": [],
   "source": [
    "encode_path = encode.data_ambiguous.path.replace('/var/www/html/genomics/media/', '/apps/encodeTracks/') \n",
    "os.path.exists(encode_path)"
   ]
  },
  {
   "cell_type": "markdown",
   "metadata": {},
   "source": [
    "- If data is stranded, bigwigs will have two files, first plus second minus and stranded_bigwigs=True\n",
    "- If feature_bed is stranded, still wil have one file, but stranded_bed=True\n",
    "- opposite_strand_fn is always None, currently\n",
    "    - (If you have stranded bigwigs, would create two files)\n",
    "- store the output file here: `FeatureListCountMatrix`\n",
    "- (in example data), the individual_matrices folder are all FeatureListCountMatrix"
   ]
  },
  {
   "cell_type": "code",
   "execution_count": null,
   "metadata": {
    "collapsed": false
   },
   "outputs": [],
   "source": [
    "bm = BedMatrix(\n",
    "    bigwigs=[encode_path], \n",
    "    feature_bed=fl.dataset.path, \n",
    "    output_matrix=outputfn, \n",
    "    anchor='center', \n",
    "    bin_start=-2500,\n",
    "    bin_number=50, \n",
    "    bin_size=100, \n",
    "    opposite_strand_fn=None,\n",
    "    stranded_bigwigs=False,\n",
    "    stranded_bed=True)"
   ]
  },
  {
   "cell_type": "code",
   "execution_count": null,
   "metadata": {
    "collapsed": false
   },
   "outputs": [],
   "source": [
    "os.path.exists(outputfn)"
   ]
  },
  {
   "cell_type": "markdown",
   "metadata": {},
   "source": [
    "# Run MatrixByMatrix"
   ]
  },
  {
   "cell_type": "code",
   "execution_count": null,
   "metadata": {
    "collapsed": false
   },
   "outputs": [],
   "source": [
    "from analysis.workflow.matrixByMatrix import MatrixByMatrix"
   ]
  },
  {
   "cell_type": "code",
   "execution_count": null,
   "metadata": {
    "collapsed": true
   },
   "outputs": [],
   "source": [
    "matrix_list = [ [outputfn, \"name\"], [outputfn, \"name\"] ]"
   ]
  },
  {
   "cell_type": "code",
   "execution_count": null,
   "metadata": {
    "collapsed": false
   },
   "outputs": [],
   "source": [
    "mm = MatrixByMatrix(\n",
    "    matrix_list=matrix_list,\n",
    "    window_start=-2500,\n",
    "    bin_number=50,\n",
    "    bin_size=100,\n",
    "    output_json=outputjson,\n",
    "    sort_vector=None\n",
    ")"
   ]
  }
 ],
 "metadata": {
  "kernelspec": {
   "display_name": "Django Shell-Plus",
   "language": "python",
   "name": "django_extensions"
  },
  "language_info": {
   "codemirror_mode": {
    "name": "ipython",
    "version": 3
   },
   "file_extension": ".py",
   "mimetype": "text/x-python",
   "name": "python",
   "nbconvert_exporter": "python",
   "pygments_lexer": "ipython3",
   "version": "3.5.0"
  }
 },
 "nbformat": 4,
 "nbformat_minor": 0
}
