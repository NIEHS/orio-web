{
 "cells": [
  {
   "cell_type": "code",
   "execution_count": null,
   "metadata": {
    "collapsed": true
   },
   "outputs": [],
   "source": [
    "fn = '/Users/shapiroaj4/Desktop/sample_data_set/analysis_output.json'"
   ]
  },
  {
   "cell_type": "code",
   "execution_count": null,
   "metadata": {
    "collapsed": true
   },
   "outputs": [],
   "source": [
    "complete_output = open(fn, 'r').read()"
   ]
  },
  {
   "cell_type": "code",
   "execution_count": null,
   "metadata": {
    "collapsed": true
   },
   "outputs": [],
   "source": [
    "import json"
   ]
  },
  {
   "cell_type": "code",
   "execution_count": null,
   "metadata": {
    "collapsed": true
   },
   "outputs": [],
   "source": [
    "complete_output = json.loads(complete_output)"
   ]
  },
  {
   "cell_type": "code",
   "execution_count": null,
   "metadata": {
    "collapsed": false
   },
   "outputs": [],
   "source": [
    "complete_output.keys()"
   ]
  },
  {
   "cell_type": "markdown",
   "metadata": {},
   "source": [
    "# output #1\n",
    "Required for first visual (call it analysis-overview-visual):"
   ]
  },
  {
   "cell_type": "code",
   "execution_count": null,
   "metadata": {
    "collapsed": true
   },
   "outputs": [],
   "source": [
    "ret1 = {\n",
    "    'dendrogram': complete_output['dendrogram'],\n",
    "    'max_abs_correlation_values': complete_output['max_abs_correlation_values'],\n",
    "    'cluster_members': complete_output['cluster_members'],\n",
    "    'correlation_matrix': complete_output['correlation_matrix'],    \n",
    "}\n",
    "outfn = '/Users/shapiroaj4/Desktop/ret1.json'\n",
    "with open(outfn, 'w') as f:\n",
    "    f.write(json.dumps(ret1))"
   ]
  },
  {
   "cell_type": "markdown",
   "metadata": {},
   "source": [
    "# output #2\n",
    "\n",
    "Another display will be for individual dataset over feature-list file:\n",
    "\n",
    "First it goes to JSON, finds user-selected name of FeatureListCountMatrix, extracts the sort order for this FeatureListCountMatrix, and applies the sort?\n",
    "\n",
    "There, I need to design an api where you send me the FeatureListCountMatrix name, and I will return the sort-order for that FeatureListCountMatrix\n",
    "\n",
    "API call will be (/analysis/123/sort-order/41/)"
   ]
  },
  {
   "cell_type": "code",
   "execution_count": null,
   "metadata": {
    "collapsed": true
   },
   "outputs": [],
   "source": [
    "# should pluck out the mathing sort_orders from the list\n",
    "ret2 = {\n",
    "    'sort_order': complete_output['sort_orders'][0],\n",
    "}\n",
    "outfn = '/Users/shapiroaj4/Desktop/ret2.json'\n",
    "with open(outfn, 'w') as f:\n",
    "    f.write(json.dumps(ret2))"
   ]
  },
  {
   "cell_type": "markdown",
   "metadata": {},
   "source": [
    "### output #3\n",
    "\n",
    "Return FeatureListCountMatrix for any matrix. Api call be will be /analysis/123/feature-list-count/456/"
   ]
  }
 ],
 "metadata": {
  "kernelspec": {
   "display_name": "Django Shell-Plus",
   "language": "python",
   "name": "django_extensions"
  },
  "language_info": {
   "codemirror_mode": {
    "name": "ipython",
    "version": 3
   },
   "file_extension": ".py",
   "mimetype": "text/x-python",
   "name": "python",
   "nbconvert_exporter": "python",
   "pygments_lexer": "ipython3",
   "version": "3.5.0"
  }
 },
 "nbformat": 4,
 "nbformat_minor": 0
}
