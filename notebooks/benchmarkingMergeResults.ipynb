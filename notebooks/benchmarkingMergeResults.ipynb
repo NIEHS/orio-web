{
 "cells": [
  {
   "cell_type": "code",
   "execution_count": null,
   "metadata": {
    "collapsed": true
   },
   "outputs": [],
   "source": [
    "import os\n",
    "import json\n",
    "import pandas as pd"
   ]
  },
  {
   "cell_type": "code",
   "execution_count": null,
   "metadata": {
    "collapsed": false
   },
   "outputs": [],
   "source": [
    "fn = os.path.expanduser('~/Desktop/analysis.json')\n",
    "with open(fn, 'r') as f:\n",
    "    ds1 = json.load(f)\n",
    "\n",
    "fn = os.path.expanduser('~/Desktop/analysis2.json')\n",
    "with open(fn, 'r') as f:\n",
    "    ds2 = json.load(f)\n",
    "    \n",
    "fn = os.path.expanduser('~/Desktop/analysis3.json')\n",
    "with open(fn, 'r') as f:\n",
    "    ds3 = json.load(f)"
   ]
  },
  {
   "cell_type": "code",
   "execution_count": null,
   "metadata": {
    "collapsed": true
   },
   "outputs": [],
   "source": [
    "def getDf(ds):\n",
    "    # convert list of dictionaries to data-frame\n",
    "    \n",
    "    for d in ds:\n",
    "        d['fields']['pk'] = d['pk']\n",
    "        \n",
    "    ds = [d['fields'] for d in ds]\n",
    "    \n",
    "    df = pd.DataFrame.from_dict(ds)\n",
    "    \n",
    "    \n",
    "    # filter cols\n",
    "    df = df[['name', 'start_time', 'end_time']]\n",
    "    df = df[df.end_time.isnull() == False]\n",
    "    \n",
    "    # filter rows\n",
    "    df = df[df.name.str.contains('benchmarking')]\n",
    "    \n",
    "    # calc duration\n",
    "    df['start_time'] = pd.to_datetime(df.start_time)\n",
    "    df['end_time'] = pd.to_datetime(df.end_time)\n",
    "    df['duration'] = df.end_time - df.start_time\n",
    "    df['seconds'] = df.duration.astype('timedelta64[s]').astype(int)\n",
    "    \n",
    "    # extract dataests\n",
    "    df['features'] = df.name.str.extract(r'(\\d+) features')\n",
    "    df['datasets'] = df.name.str.extract(r'(\\d+) datasets')\n",
    "        \n",
    "    df['features'] = df.features.astype(int)\n",
    "    df['datasets'] = df.datasets.astype(int)\n",
    "    \n",
    "    # return final values\n",
    "    df = df[['features', 'datasets', 'seconds']]\n",
    "    return df"
   ]
  },
  {
   "cell_type": "code",
   "execution_count": null,
   "metadata": {
    "collapsed": false
   },
   "outputs": [],
   "source": [
    "df1 = getDf(ds1)\n",
    "df2 = getDf(ds2)\n",
    "df3 = getDf(ds3)"
   ]
  },
  {
   "cell_type": "code",
   "execution_count": null,
   "metadata": {
    "collapsed": false
   },
   "outputs": [],
   "source": [
    "df1.head(20)    "
   ]
  },
  {
   "cell_type": "code",
   "execution_count": null,
   "metadata": {
    "collapsed": false
   },
   "outputs": [],
   "source": [
    "df2.head(20)"
   ]
  },
  {
   "cell_type": "code",
   "execution_count": null,
   "metadata": {
    "collapsed": false
   },
   "outputs": [],
   "source": [
    "df3.head(20)"
   ]
  },
  {
   "cell_type": "code",
   "execution_count": null,
   "metadata": {
    "collapsed": false
   },
   "outputs": [],
   "source": [
    "df1.shape"
   ]
  },
  {
   "cell_type": "code",
   "execution_count": null,
   "metadata": {
    "collapsed": false
   },
   "outputs": [],
   "source": [
    "df1 = df1.drop(df1.query('features==100000 and datasets==2').index)\n",
    "df1.shape"
   ]
  },
  {
   "cell_type": "code",
   "execution_count": null,
   "metadata": {
    "collapsed": false
   },
   "outputs": [],
   "source": [
    "df1 = df1.drop(df1.query('features==500 and datasets==10').index)\n",
    "df1.shape"
   ]
  },
  {
   "cell_type": "code",
   "execution_count": null,
   "metadata": {
    "collapsed": false
   },
   "outputs": [],
   "source": [
    "df2 = df2.drop(df1.query('features==500 and datasets==10').index)\n",
    "df2.shape"
   ]
  },
  {
   "cell_type": "code",
   "execution_count": null,
   "metadata": {
    "collapsed": false
   },
   "outputs": [],
   "source": [
    "df1 = df1.drop(df1.query('features==100000 and datasets==750').index)\n",
    "df1.shape"
   ]
  },
  {
   "cell_type": "code",
   "execution_count": null,
   "metadata": {
    "collapsed": true
   },
   "outputs": [],
   "source": [
    "df = pd.concat([df1, df2, df3])"
   ]
  },
  {
   "cell_type": "code",
   "execution_count": null,
   "metadata": {
    "collapsed": false
   },
   "outputs": [],
   "source": [
    "df.shape"
   ]
  },
  {
   "cell_type": "code",
   "execution_count": null,
   "metadata": {
    "collapsed": false
   },
   "outputs": [],
   "source": [
    "df.head()"
   ]
  },
  {
   "cell_type": "code",
   "execution_count": null,
   "metadata": {
    "collapsed": false
   },
   "outputs": [],
   "source": [
    "df.to_pickle(os.path.expanduser('~/Desktop/analysis.pkl'))\n",
    "df.to_csv(os.path.expanduser('~/Desktop/analysis.csv'), index=False)"
   ]
  }
 ],
 "metadata": {
  "kernelspec": {
   "display_name": "Python 3",
   "language": "python",
   "name": "python3"
  },
  "language_info": {
   "codemirror_mode": {
    "name": "ipython",
    "version": 3
   },
   "file_extension": ".py",
   "mimetype": "text/x-python",
   "name": "python",
   "nbconvert_exporter": "python",
   "pygments_lexer": "ipython3",
   "version": "3.5.1"
  }
 },
 "nbformat": 4,
 "nbformat_minor": 0
}
