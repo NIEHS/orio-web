{
 "cells": [
  {
   "cell_type": "code",
   "execution_count": 1,
   "metadata": {
    "collapsed": false
   },
   "outputs": [],
   "source": [
    "import os\n",
    "import pandas as pd"
   ]
  },
  {
   "cell_type": "code",
   "execution_count": 2,
   "metadata": {
    "collapsed": false
   },
   "outputs": [],
   "source": [
    "hg19 = os.path.abspath('./data/hg19_metadata.txt')\n",
    "mm9 = os.path.abspath('./data/mm9_metadata.txt')\n",
    "assert os.path.exists(hg19)\n",
    "assert os.path.exists(mm9)"
   ]
  },
  {
   "cell_type": "code",
   "execution_count": 3,
   "metadata": {
    "collapsed": true
   },
   "outputs": [],
   "source": [
    "def covertFileToDataFrame(fn):\n",
    "    with open(fn, 'r') as f:\n",
    "        data = f.readlines()\n",
    "    objs = []\n",
    "    for obj in data:\n",
    "        fn, meta = obj.split('\\t')\n",
    "        obj = {'fn': fn.strip()}\n",
    "        for key in meta.split(';'):\n",
    "            k, v = key.split('=')\n",
    "            obj[k.strip()] = v.strip()\n",
    "        objs.append(obj)    \n",
    "    return pd.DataFrame(objs)\n",
    "        "
   ]
  },
  {
   "cell_type": "code",
   "execution_count": 4,
   "metadata": {
    "collapsed": false
   },
   "outputs": [
    {
     "name": "stdout",
     "output_type": "stream",
     "text": [
      "<class 'pandas.core.frame.DataFrame'>\n",
      "Int64Index: 4424 entries, 0 to 4423\n",
      "Data columns (total 48 columns):\n",
      "antibody                2209 non-null object\n",
      "bioRep                  1212 non-null object\n",
      "cell                    4414 non-null object\n",
      "composite               4396 non-null object\n",
      "control                 1241 non-null object\n",
      "controlId               2350 non-null object\n",
      "dataType                4424 non-null object\n",
      "dataVersion             4424 non-null object\n",
      "dateResubmitted         894 non-null object\n",
      "dateSubmitted           4418 non-null object\n",
      "dateUnrestricted        4348 non-null object\n",
      "dccAccession            4417 non-null object\n",
      "donorId                 297 non-null object\n",
      "expId                   21 non-null object\n",
      "fn                      4424 non-null object\n",
      "geoSampleAccession      4096 non-null object\n",
      "grant                   4424 non-null object\n",
      "insertLength            177 non-null object\n",
      "lab                     4424 non-null object\n",
      "labExpId                3147 non-null object\n",
      "labProtocolId           14 non-null object\n",
      "labVersion              1643 non-null object\n",
      "localization            1391 non-null object\n",
      "mapAlgorithm            221 non-null object\n",
      "md5sum                  4396 non-null object\n",
      "objStatus               321 non-null object\n",
      "origAssembly            1998 non-null object\n",
      "phase                   128 non-null object\n",
      "platform                16 non-null object\n",
      "project                 4396 non-null object\n",
      "protocol                1164 non-null object\n",
      "readType                1155 non-null object\n",
      "replicate               3045 non-null object\n",
      "rnaExtract              1439 non-null object\n",
      "seqPlatform             1260 non-null object\n",
      "setType                 2178 non-null object\n",
      "sex                     46 non-null object\n",
      "size                    4424 non-null object\n",
      "softwareVersion         12 non-null object\n",
      "sourceObj               7 non-null object\n",
      "spikeInPool             372 non-null object\n",
      "subId                   4424 non-null object\n",
      "submittedDataVersion    164 non-null object\n",
      "tableName               4394 non-null object\n",
      "treatment               2474 non-null object\n",
      "type                    4424 non-null object\n",
      "uniqueness              6 non-null object\n",
      "view                    4424 non-null object\n",
      "dtypes: object(48)\n",
      "memory usage: 1.7+ MB\n"
     ]
    }
   ],
   "source": [
    "dfHg = covertFileToDataFrame(hg19)\n",
    "dfHg.info()\n",
    "dfHg.head()\n",
    "dfHg.to_excel(os.path.abspath('./data/hg19_metadata.xlsx'))\n",
    "dfHg.to_json(os.path.abspath('./data/hg19_metadata.json'))"
   ]
  },
  {
   "cell_type": "code",
   "execution_count": 16,
   "metadata": {
    "collapsed": false
   },
   "outputs": [
    {
     "name": "stdout",
     "output_type": "stream",
     "text": [
      "4403 4424\n"
     ]
    }
   ],
   "source": [
    "print(len(dfHg.fn.unique()), dfHg.shape[0])"
   ]
  },
  {
   "cell_type": "code",
   "execution_count": 5,
   "metadata": {
    "collapsed": false
   },
   "outputs": [
    {
     "name": "stdout",
     "output_type": "stream",
     "text": [
      "<class 'pandas.core.frame.DataFrame'>\n",
      "Int64Index: 1123 entries, 0 to 1122\n",
      "Data columns (total 46 columns):\n",
      "age                     1118 non-null object\n",
      "antibody                541 non-null object\n",
      "bioRep                  120 non-null object\n",
      "cell                    1118 non-null object\n",
      "composite               1123 non-null object\n",
      "control                 541 non-null object\n",
      "controlId               541 non-null object\n",
      "dataType                1123 non-null object\n",
      "dataVersion             1123 non-null object\n",
      "dateResubmitted         224 non-null object\n",
      "dateSubmitted           1118 non-null object\n",
      "dateUnrestricted        1054 non-null object\n",
      "dccAccession            1118 non-null object\n",
      "fn                      1123 non-null object\n",
      "geoSampleAccession      1065 non-null object\n",
      "grant                   1123 non-null object\n",
      "insertLength            8 non-null object\n",
      "lab                     1123 non-null object\n",
      "labExpId                376 non-null object\n",
      "labVersion              689 non-null object\n",
      "localization            353 non-null object\n",
      "mapAlgorithm            8 non-null object\n",
      "md5sum                  1123 non-null object\n",
      "objStatus               20 non-null object\n",
      "origAssembly            2 non-null object\n",
      "platform                33 non-null object\n",
      "project                 1123 non-null object\n",
      "protocol                51 non-null object\n",
      "readType                361 non-null object\n",
      "replicate               757 non-null object\n",
      "rnaExtract              361 non-null object\n",
      "seqPlatform             652 non-null object\n",
      "setType                 541 non-null object\n",
      "sex                     1118 non-null object\n",
      "size                    1123 non-null object\n",
      "softwareVersion         236 non-null object\n",
      "spikeInPool             120 non-null object\n",
      "strain                  1118 non-null object\n",
      "subId                   1118 non-null object\n",
      "submittedDataVersion    5 non-null object\n",
      "tableName               1004 non-null object\n",
      "tissueSourceType        402 non-null object\n",
      "treatment               327 non-null object\n",
      "type                    1123 non-null object\n",
      "uniqueness              5 non-null object\n",
      "view                    1123 non-null object\n",
      "dtypes: object(46)\n",
      "memory usage: 412.4+ KB\n"
     ]
    }
   ],
   "source": [
    "dfMm = covertFileToDataFrame(mm9)\n",
    "dfMm.info()\n",
    "dfMm.head()\n",
    "dfMm.to_excel(os.path.abspath('./data/mm9_metadata.xlsx'))\n",
    "dfMm.to_json(os.path.abspath('./data/mm9_metadata.json'))"
   ]
  },
  {
   "cell_type": "code",
   "execution_count": 17,
   "metadata": {
    "collapsed": false
   },
   "outputs": [
    {
     "name": "stdout",
     "output_type": "stream",
     "text": [
      "1123 1123\n"
     ]
    }
   ],
   "source": [
    "print(len(dfMm.fn.unique()), dfMm.shape[0])"
   ]
  }
 ],
 "metadata": {
  "kernelspec": {
   "display_name": "Django Shell-Plus",
   "language": "python",
   "name": "django_extensions"
  },
  "language_info": {
   "codemirror_mode": {
    "name": "ipython",
    "version": 3
   },
   "file_extension": ".py",
   "mimetype": "text/x-python",
   "name": "python",
   "nbconvert_exporter": "python",
   "pygments_lexer": "ipython3",
   "version": "3.5.0"
  }
 },
 "nbformat": 4,
 "nbformat_minor": 0
}
