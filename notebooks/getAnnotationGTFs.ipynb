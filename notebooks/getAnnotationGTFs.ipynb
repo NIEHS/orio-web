{
 "cells": [
  {
   "cell_type": "code",
   "execution_count": 57,
   "metadata": {
    "collapsed": true
   },
   "outputs": [],
   "source": [
    "import mysql.connector\n",
    "import csv\n",
    "import os\n",
    "import sys\n",
    "\n",
    "from datetime import datetime\n",
    "from collections import defaultdict"
   ]
  },
  {
   "cell_type": "code",
   "execution_count": 58,
   "metadata": {
    "collapsed": false
   },
   "outputs": [],
   "source": [
    "def getAnnotation(assembly_name, out_file):\n",
    "    with open(out_file, 'w') as OUTPUT:\n",
    "        cnx = mysql.connector.connect(\n",
    "            user='genome', \n",
    "            host='genome-mysql.cse.ucsc.edu',\n",
    "        )\n",
    "        cursor = cnx.cursor(dictionary=True)\n",
    "\n",
    "        query = ('SELECT '\n",
    "                 + assembly_name + '.refGene.name,'\n",
    "                 + assembly_name + '.refGene.chrom,'\n",
    "                 + assembly_name + '.refGene.exonStarts,'\n",
    "                 + assembly_name + '.refGene.exonEnds,'\n",
    "                 + assembly_name + '.refGene.strand,'\n",
    "                 + assembly_name + '.refGene.name2,'\n",
    "                 + 'hgFixed.refLink.locusLinkId from '\n",
    "                 + assembly_name + '.refGene '\n",
    "                 + 'left outer join hgFixed.refLink on '\n",
    "                 + assembly_name + '.refGene.name=hgFixed.refLink.mrnaAcc'\n",
    "                )\n",
    "\n",
    "        cursor.execute(query)\n",
    "        \n",
    "        transcripts = []\n",
    "        for entry in cursor:\n",
    "            transcripts.append(entry)\n",
    "        sorted_transcripts = sorted(transcripts, key=lambda x: (x['chrom'],\n",
    "                    int(x['exonStarts'].decode('UTF-8').split(',')[0]),\n",
    "                    x['name'].split('_')[0],\n",
    "                    x['name'].split('_')[1]))\n",
    "\n",
    "        for entry in sorted_transcripts:\n",
    "            starts = entry['exonStarts'].decode('UTF-8').split(',')[:-1]\n",
    "            ends = entry['exonEnds'].decode('UTF-8').split(',')[:-1]\n",
    "            \n",
    "            for start, end in zip(starts, ends):\n",
    "                OUTPUT.write('\\t'.join([\n",
    "                        entry['chrom'],\n",
    "                        assembly_name + '.refGene',\n",
    "                        'exon',\n",
    "                        start,\n",
    "                        end,\n",
    "                        '.',\n",
    "                        entry['strand'],\n",
    "                        '.',\n",
    "                        'gene_id \"{}\"; transcript_id \"{}\"'.format(\n",
    "                            entry['name2'],\n",
    "                            entry['name'],\n",
    "                        ),\n",
    "                    ]) + '\\n')"
   ]
  },
  {
   "cell_type": "code",
   "execution_count": 59,
   "metadata": {
    "collapsed": false
   },
   "outputs": [],
   "source": [
    "# getAnnotation('dm3', 'temp.gtf')"
   ]
  },
  {
   "cell_type": "code",
   "execution_count": 60,
   "metadata": {
    "collapsed": true
   },
   "outputs": [],
   "source": [
    "annotations = [\n",
    "    'hg19',\n",
    "    'mm9',\n",
    "    'hg38',\n",
    "    'mm10',\n",
    "    'dm6',\n",
    "]\n",
    "\n",
    "for annotation in annotations:\n",
    "    getAnnotation(annotation, annotation + '.gtf')"
   ]
  },
  {
   "cell_type": "code",
   "execution_count": null,
   "metadata": {
    "collapsed": true
   },
   "outputs": [],
   "source": []
  }
 ],
 "metadata": {
  "kernelspec": {
   "display_name": "Django Shell-Plus",
   "language": "python",
   "name": "django_extensions"
  },
  "language_info": {
   "codemirror_mode": {
    "name": "ipython",
    "version": 3
   },
   "file_extension": ".py",
   "mimetype": "text/x-python",
   "name": "python",
   "nbconvert_exporter": "python",
   "pygments_lexer": "ipython3",
   "version": "3.4.3"
  }
 },
 "nbformat": 4,
 "nbformat_minor": 0
}
