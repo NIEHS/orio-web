{
 "cells": [
  {
   "cell_type": "code",
   "execution_count": null,
   "metadata": {
    "collapsed": false
   },
   "outputs": [],
   "source": [
    "import pymysql\n",
    "import csv\n",
    "import os\n",
    "import sys\n",
    "\n",
    "from datetime import datetime\n",
    "from collections import defaultdict"
   ]
  },
  {
   "cell_type": "code",
   "execution_count": null,
   "metadata": {
    "collapsed": false
   },
   "outputs": [],
   "source": [
    "def getAnnotation(assembly_name, out_file):    \n",
    "    cnx = pymysql.connect(\n",
    "        user='genome', \n",
    "        host='genome-mysql.cse.ucsc.edu',\n",
    "        cursorclass=pymysql.cursors.DictCursor\n",
    "    )\n",
    "    cursor = cnx.cursor()\n",
    "\n",
    "    query = \"\"\"\n",
    "    SELECT {0}.refGene.name, {0}.refGene.chrom, {0}.refGene.exonStarts,\n",
    "           {0}.refGene.exonEnds, {0}.refGene.strand, {0}.refGene.name2,\n",
    "           hgFixed.refLink.locusLinkId\n",
    "    FROM {0}.refGene LEFT OUTER JOIN\n",
    "        hgFixed.refLink ON {0}.refGene.name=hgFixed.refLink.mrnaAcc\n",
    "    \"\"\".format(assembly_name)\n",
    "\n",
    "    cursor.execute(query)\n",
    "    transcripts = [entry for entry in cursor]\n",
    "    cnx.close()    \n",
    "\n",
    "    sorted_transcripts = sorted(transcripts, key=lambda x: (x['chrom'],\n",
    "                int(x['exonStarts'].decode('UTF-8').split(',')[0]),\n",
    "                x['name'].split('_')[0],\n",
    "                x['name'].split('_')[1]))\n",
    "\n",
    "    with open(out_file, 'w') as f:            \n",
    "        for entry in sorted_transcripts:\n",
    "            starts = entry['exonStarts'].decode('UTF-8').split(',')[:-1]\n",
    "            ends = entry['exonEnds'].decode('UTF-8').split(',')[:-1]\n",
    "            \n",
    "            for start, end in zip(starts, ends):\n",
    "                f.write('\\t'.join([\n",
    "                        entry['chrom'],\n",
    "                        assembly_name + '.refGene',\n",
    "                        'exon',\n",
    "                        start,\n",
    "                        end,\n",
    "                        '.',\n",
    "                        entry['strand'],\n",
    "                        '.',\n",
    "                        'gene_id \"{}\"; transcript_id \"{}\";'.format(entry['name2'],entry['name'],),\n",
    "                    ]) + '\\n')"
   ]
  },
  {
   "cell_type": "code",
   "execution_count": null,
   "metadata": {
    "collapsed": false
   },
   "outputs": [],
   "source": [
    "annotations = [\n",
    "    'hg19',\n",
    "    'mm9',\n",
    "    'hg38',\n",
    "    'mm10',\n",
    "    'dm6',\n",
    "]\n",
    "\n",
    "for annotation in annotations:\n",
    "    getAnnotation(annotation, annotation + '.gtf')"
   ]
  }
 ],
 "metadata": {
  "kernelspec": {
   "display_name": "Django Shell-Plus",
   "language": "python",
   "name": "django_extensions"
  },
  "language_info": {
   "codemirror_mode": {
    "name": "ipython",
    "version": 3
   },
   "file_extension": ".py",
   "mimetype": "text/x-python",
   "name": "python",
   "nbconvert_exporter": "python",
   "pygments_lexer": "ipython3",
   "version": "3.5.1"
  }
 },
 "nbformat": 4,
 "nbformat_minor": 0
}
