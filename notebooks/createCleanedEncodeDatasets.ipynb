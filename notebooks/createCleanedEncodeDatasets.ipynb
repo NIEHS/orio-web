{
 "cells": [
  {
   "cell_type": "markdown",
   "metadata": {},
   "source": [
    "# Create ENCODE datasets\n",
    "\n",
    "This script requires two inputs:\n",
    "\n",
    "- `data/cleaned_encode_list.xlsx` - a curated Excel file listing each unique analysis using stranded or unstranded bigWig files in the ENCODE dataset\n",
    "-  `data/md5list.txt` - a text file listing the md5 sum and the full path for each bigWig file on the server\n",
    "\n",
    "This script will DELETE all existing encode datasets from the database, then load new ones, mapping the dataset to the location on the server."
   ]
  },
  {
   "cell_type": "code",
   "execution_count": 77,
   "metadata": {
    "collapsed": true
   },
   "outputs": [],
   "source": [
    "from django.conf import settings\n",
    "\n",
    "from collections import defaultdict\n",
    "import json\n",
    "import os\n",
    "import pandas as pd\n",
    "import numpy as np\n",
    "\n",
    "from analysis import models"
   ]
  },
  {
   "cell_type": "markdown",
   "metadata": {},
   "source": [
    "Delete old encode datasets:"
   ]
  },
  {
   "cell_type": "code",
   "execution_count": 78,
   "metadata": {
    "collapsed": false
   },
   "outputs": [
    {
     "data": {
      "text/plain": [
       "(9004,\n",
       " {'analysis.AnalysisDatasets': 0,\n",
       "  'analysis.EncodeDataset': 4502,\n",
       "  'analysis.GenomicDataset': 4502,\n",
       "  'analysis.GenomicDataset_borrowers': 0})"
      ]
     },
     "execution_count": 78,
     "metadata": {},
     "output_type": "execute_result"
    }
   ],
   "source": [
    "models.EncodeDataset.objects.all().delete()"
   ]
  },
  {
   "cell_type": "markdown",
   "metadata": {},
   "source": [
    "Load new datasets from Excel list:"
   ]
  },
  {
   "cell_type": "code",
   "execution_count": 79,
   "metadata": {
    "collapsed": false
   },
   "outputs": [],
   "source": [
    "fn = os.path.abspath('./data/cleaned_encode_list.xlsx')\n",
    "assert os.path.exists(fn)\n",
    "df = pd.read_excel(fn, sheetname=\"Sheet1\")"
   ]
  },
  {
   "cell_type": "code",
   "execution_count": 82,
   "metadata": {
    "collapsed": true
   },
   "outputs": [],
   "source": [
    "md5_fn = os.path.abspath('data/md5list.txt')\n",
    "assert os.path.exists(md5_fn)"
   ]
  },
  {
   "cell_type": "code",
   "execution_count": 80,
   "metadata": {
    "collapsed": false
   },
   "outputs": [
    {
     "name": "stdout",
     "output_type": "stream",
     "text": [
      "<class 'pandas.core.frame.DataFrame'>\n",
      "Int64Index: 4502 entries, 0 to 4501\n",
      "Data columns (total 64 columns):\n",
      "Name                    4502 non-null object\n",
      "Description             0 non-null float64\n",
      "plus_bigwig             685 non-null object\n",
      "minus_bigwig            685 non-null object\n",
      "ambig_bigwig            3817 non-null object\n",
      "genome_assembly         4502 non-null object\n",
      "dataType                4502 non-null object\n",
      "cell                    4487 non-null object\n",
      "antibody                2674 non-null object\n",
      "rnaExtract              878 non-null object\n",
      "phase                   128 non-null object\n",
      "treatment               2672 non-null object\n",
      "localization            824 non-null object\n",
      "Valid                   0 non-null float64\n",
      "labExpId                2620 non-null object\n",
      "dccAccession            4490 non-null object\n",
      "controlId               2805 non-null object\n",
      "project                 4474 non-null object\n",
      "ambig_md5sum            3789 non-null object\n",
      "ambig_view              3817 non-null object\n",
      "subId                   4497 non-null float64\n",
      "protocol                1010 non-null object\n",
      "replicate               2848 non-null float64\n",
      "lab                     4502 non-null object\n",
      "type                    4502 non-null object\n",
      "ambig_tableName         3671 non-null object\n",
      "geoSampleAccession      4406 non-null object\n",
      "setType                 2643 non-null object\n",
      "dateUnrestricted        4357 non-null object\n",
      "dataVersion             4502 non-null object\n",
      "ambig_size              3817 non-null object\n",
      "composite               4474 non-null object\n",
      "grant                   4502 non-null object\n",
      "dateSubmitted           4491 non-null datetime64[ns]\n",
      "origAssembly            1795 non-null object\n",
      "labVersion              2120 non-null object\n",
      "control                 1727 non-null object\n",
      "dateResubmitted         847 non-null object\n",
      "plus_md5sum             685 non-null object\n",
      "readType                786 non-null object\n",
      "plus_tableName          684 non-null object\n",
      "plus_view               685 non-null object\n",
      "minus_md5sum            685 non-null object\n",
      "minus_tableName         684 non-null object\n",
      "minus_size              685 non-null object\n",
      "plus_size               685 non-null object\n",
      "donorId                 152 non-null object\n",
      "bioRep                  605 non-null object\n",
      "minus_view              685 non-null object\n",
      "seqPlatform             1223 non-null object\n",
      "spikeInPool             244 non-null object\n",
      "sex                     1001 non-null object\n",
      "mapAlgorithm            104 non-null object\n",
      "platform                49 non-null object\n",
      "submittedDataVersion    89 non-null object\n",
      "insertLength            62 non-null object\n",
      "expId                   21 non-null float64\n",
      "labProtocolId           7 non-null object\n",
      "uniqueness              11 non-null object\n",
      "sourceObj               7 non-null object\n",
      "softwareVersion         238 non-null object\n",
      "age                     971 non-null object\n",
      "strain                  971 non-null object\n",
      "tissueSourceType        349 non-null object\n",
      "dtypes: datetime64[ns](1), float64(5), object(58)\n",
      "memory usage: 2.2+ MB\n"
     ]
    }
   ],
   "source": [
    "df.info()"
   ]
  },
  {
   "cell_type": "markdown",
   "metadata": {},
   "source": [
    "## Check max-length for each column\n",
    "\n",
    "check db-settings to ensure our value will fit:"
   ]
  },
  {
   "cell_type": "code",
   "execution_count": 81,
   "metadata": {
    "collapsed": false
   },
   "outputs": [
    {
     "name": "stdout",
     "output_type": "stream",
     "text": [
      "Name: 64\n",
      "Description: nan to nan\n",
      "plus_bigwig: 69\n",
      "minus_bigwig: 70\n",
      "ambig_bigwig: 71\n",
      "genome_assembly: 4\n",
      "dataType: 10\n",
      "cell: 25\n",
      "antibody: 22\n",
      "rnaExtract: 12\n",
      "phase: 4\n",
      "treatment: 24\n",
      "localization: 11\n",
      "Valid: nan to nan\n",
      "labExpId: 27\n",
      "dccAccession: 16\n",
      "controlId: 29\n",
      "project: 8\n",
      "ambig_md5sum: 32\n",
      "ambig_view: 19\n",
      "subId: 1122.0 to 7873.0\n",
      "protocol: 9\n",
      "replicate: 1.0 to 14.0\n",
      "lab: 11\n",
      "type: 8\n",
      "ambig_tableName: 62\n",
      "geoSampleAccession: 10\n",
      "setType: 5\n",
      "dateUnrestricted: 19\n",
      "dataVersion: 23\n",
      "ambig_size: 5\n",
      "composite: 23\n",
      "grant: 9\n",
      "dateSubmitted: datetime64[ns]\n",
      "origAssembly: 4\n",
      "labVersion: 150\n",
      "control: 18\n",
      "dateResubmitted: 19\n",
      "plus_md5sum: 32\n",
      "readType: 6\n",
      "plus_tableName: 62\n",
      "plus_view: 13\n",
      "minus_md5sum: 32\n",
      "minus_tableName: 63\n",
      "minus_size: 5\n",
      "plus_size: 5\n",
      "donorId: 12\n",
      "bioRep: 9\n",
      "minus_view: 14\n",
      "seqPlatform: 19\n",
      "spikeInPool: 6\n",
      "sex: 1\n",
      "mapAlgorithm: 6\n",
      "platform: 8\n",
      "submittedDataVersion: 183\n",
      "insertLength: 4\n",
      "expId: 28.0 to 997.0\n",
      "labProtocolId: 9\n",
      "uniqueness: 25\n",
      "sourceObj: 107\n",
      "softwareVersion: 15\n",
      "age: 14\n",
      "strain: 17\n",
      "tissueSourceType: 10\n"
     ]
    }
   ],
   "source": [
    "for colname in df.columns:\n",
    "    series = df[colname]\n",
    "    if series.dtype == np.object:\n",
    "        print(\"{}: {}\".format(colname, max([len(str(x)) for x in series.unique() if x is not np.NaN])))\n",
    "    elif series.dtype == np.float64:\n",
    "        print(\"{}: {} to {}\".format(colname, series.min(), series.max()))\n",
    "    else:\n",
    "        print(\"{}: {}\".format(colname, series.dtype))"
   ]
  },
  {
   "cell_type": "markdown",
   "metadata": {},
   "source": [
    "## Create list with local file paths\n",
    "\n",
    "We have a list of bigWig files and md5 values for all files. We now need to map these files to our mapping in this Excel crosswalk:"
   ]
  },
  {
   "cell_type": "code",
   "execution_count": 83,
   "metadata": {
    "collapsed": false
   },
   "outputs": [],
   "source": [
    "encode_root = \"/apps/encodeTracks/\"\n",
    "\n",
    "def getFileLocationDict(fn):\n",
    "    cw = defaultdict(dict)\n",
    "    \n",
    "    with open(fn, 'r') as f:\n",
    "        lines = f.readlines()\n",
    "    \n",
    "    lines = [ln.split() for ln in lines]\n",
    "    \n",
    "    for md5, fn in lines:\n",
    "        name = os.path.basename(fn)\n",
    "        path = fn.replace(encode_root, '')  # remove root\n",
    "        cw[name][md5] = path\n",
    "    \n",
    "    return cw\n",
    "\n",
    "cw = getFileLocationDict(md5_fn)"
   ]
  },
  {
   "cell_type": "code",
   "execution_count": 84,
   "metadata": {
    "collapsed": false
   },
   "outputs": [
    {
     "data": {
      "text/plain": [
       "{'d7c45b1d84503fb5b978f5778993e96c': 'hg19/wgEncodeCshlShortRnaSeq/wgEncodeCshlShortRnaSeqImr90CytosolShorttotalMinusRep2.bigWig'}"
      ]
     },
     "execution_count": 84,
     "metadata": {},
     "output_type": "execute_result"
    }
   ],
   "source": [
    "cw['wgEncodeCshlShortRnaSeqImr90CytosolShorttotalMinusRep2.bigWig']"
   ]
  },
  {
   "cell_type": "markdown",
   "metadata": {},
   "source": [
    "Now, create method for mapping a filename and optionally an MD5 to a file on our filesystem:"
   ]
  },
  {
   "cell_type": "code",
   "execution_count": 85,
   "metadata": {
    "collapsed": true
   },
   "outputs": [],
   "source": [
    "def getMatchingPath(name, md5=None):\n",
    "    files = cw[name]\n",
    "    \n",
    "    # first, see if we're missing a name in the crosswalk\n",
    "    if len(files) == 0:\n",
    "        return print('Missing name: {}'.format(name))\n",
    "    \n",
    "    # first, try to get using MD5        \n",
    "    try:\n",
    "        return files[md5]\n",
    "    except Exception:\n",
    "        if md5:\n",
    "            # next, see if we're not matching an MD5\n",
    "            print('Unmatched MD5: {} - our MD5: {}, from db: {}'.format(\n",
    "                name, md5, '|'.join(files.keys())\n",
    "            ))        \n",
    "    \n",
    "    # next, if no MD5 but only one name, use this value\n",
    "    if len(files) == 1 and md5 is None:\n",
    "        return list(files.values())[0]\n",
    "    \n",
    "    print('Unmatched: {} {}'.format(name, md5))  "
   ]
  },
  {
   "cell_type": "markdown",
   "metadata": {},
   "source": [
    "Set filename paths:"
   ]
  },
  {
   "cell_type": "code",
   "execution_count": 86,
   "metadata": {
    "collapsed": false
   },
   "outputs": [
    {
     "name": "stdout",
     "output_type": "stream",
     "text": [
      "Missing name: wgEncodeCaltechTfbsC2c12InputFCntrl36bE2p60hPcr1xSigRep1.bigWig\n",
      "Missing name: wgEncodeSydhRnaSeqMelRibozerogR2x101dSigRep2V2.document.tgz\n",
      "Missing name: wgEncodeCaltechTfbsC2c12InputFCntrl50bPcr1xSigRep2.bigWig\n",
      "Missing name: wgEncodeCaltechTfbsC2c12InputFCntrl50bPcr1xSigRep3.bigWig\n"
     ]
    }
   ],
   "source": [
    "def func(d, fld, md5fld):\n",
    "    name = d[fld]\n",
    "    md5 = d[md5fld]\n",
    "    if md5 is np.NaN:\n",
    "        md5 = None\n",
    "    if name is not np.NaN:\n",
    "        path = getMatchingPath(name, md5)\n",
    "        if path:\n",
    "            return path\n",
    "    return ''\n",
    "\n",
    "df['_plus_bigwig_fn'] = df.apply(func, axis=1, args=('plus_bigwig', 'plus_md5sum'))\n",
    "df['_minus_bigwig_fn'] = df.apply(func, axis=1, args=('minus_bigwig', 'minus_md5sum'))\n",
    "df['_ambig_bigwig_fn'] = df.apply(func, axis=1, args=('ambig_bigwig', 'ambig_md5sum'))"
   ]
  },
  {
   "cell_type": "markdown",
   "metadata": {},
   "source": [
    "### Cleanup genome type:"
   ]
  },
  {
   "cell_type": "code",
   "execution_count": 87,
   "metadata": {
    "collapsed": false
   },
   "outputs": [],
   "source": [
    "def func(d):\n",
    "    if d.genome_assembly == 'hg19':\n",
    "        return models.HG19\n",
    "    elif d.genome_assembly == 'mm9':\n",
    "        return models.MM9\n",
    "    else:\n",
    "        raise ValueError()\n",
    "\n",
    "df['_genome_assembly'] = df.apply(func, axis=1)"
   ]
  },
  {
   "cell_type": "markdown",
   "metadata": {},
   "source": [
    "### Cleanup cases where text may be blank:"
   ]
  },
  {
   "cell_type": "code",
   "execution_count": 88,
   "metadata": {
    "collapsed": false
   },
   "outputs": [],
   "source": [
    "# If commented, this means the field must not be blank or \n",
    "# else an error should be thrown, or is handled elsewhere.\n",
    "\n",
    "fields = [\n",
    "    #'Name',\n",
    "    'Description',\n",
    "    #'plus_bigwig',\n",
    "    #'minus_bigwig',\n",
    "    #'ambig_bigwig',\n",
    "    #'genome_assembly',\n",
    "    #'dataType',\n",
    "    'cell',\n",
    "    'antibody',\n",
    "    'rnaExtract',\n",
    "    'phase',\n",
    "    'treatment',\n",
    "    'localization',\n",
    "    'labExpId',\n",
    "    'dccAccession',\n",
    "    'controlId',\n",
    "    'project'\n",
    "    'labExpId',\n",
    "    'dccAccession',\n",
    "    'controlId',\n",
    "    'project',\n",
    "    'ambig_md5sum',\n",
    "    'ambig_view',\n",
    "    #'subId',\n",
    "    'protocol',\n",
    "    #'replicate',\n",
    "    'lab',\n",
    "    #'type',\n",
    "    'ambig_tableName',\n",
    "    'geoSampleAccession',\n",
    "    'setType',\n",
    "    #'dateUnrestricted',\n",
    "    #'dataVersion',\n",
    "    'ambig_size',\n",
    "    'composite',\n",
    "    #'grant',\n",
    "    #'dateSubmitted',\n",
    "    'origAssembly',\n",
    "    'labVersion',\n",
    "    'control',\n",
    "    #'dateResubmitted',\n",
    "    'plus_md5sum',\n",
    "    'readType',\n",
    "    'plus_tableName',\n",
    "    'plus_view',\n",
    "    'minus_md5sum',\n",
    "    'minus_tableName',\n",
    "    'minus_size',\n",
    "    'plus_size',\n",
    "    'donorId',\n",
    "    'bioRep',\n",
    "    'minus_view',\n",
    "    'seqPlatform',\n",
    "    'spikeInPool',\n",
    "    'sex',\n",
    "    'mapAlgorithm',\n",
    "    'platform',\n",
    "    'submittedDataVersion',\n",
    "    #'insertLength',\n",
    "    #'expId',\n",
    "    'labProtocolId',\n",
    "    'uniqueness',\n",
    "    'sourceObj',\n",
    "    'softwareVersion',\n",
    "    'age',\n",
    "    'strain',\n",
    "    'tissueSourceType',\n",
    "\n",
    "]\n",
    "for fld in fields:\n",
    "    if fld not in df.columns:\n",
    "        continue\n",
    "    df[fld].fillna(value='', inplace=True)"
   ]
  },
  {
   "cell_type": "markdown",
   "metadata": {},
   "source": [
    "### Clean dates"
   ]
  },
  {
   "cell_type": "code",
   "execution_count": 89,
   "metadata": {
    "collapsed": false
   },
   "outputs": [
    {
     "name": "stdout",
     "output_type": "stream",
     "text": [
      "Invalid date: 2012-11-31\n"
     ]
    }
   ],
   "source": [
    "def func(d, fld):\n",
    "    val = d[fld]\n",
    "    if val is not np.NaN and val is not pd.NaT:\n",
    "        try:\n",
    "            return val.toordinal()\n",
    "        except AttributeError:\n",
    "            # invalid date\n",
    "            print(\"Invalid date: {}\".format(val))\n",
    "    return None\n",
    "\n",
    "df['dateUnrestricted'] = df.apply(func, axis=1, args=('dateUnrestricted', ))\n",
    "df['dateSubmitted'] = df.apply(func, axis=1, args=('dateSubmitted', ))\n",
    "df['dateResubmitted'] = df.apply(func, axis=1, args=('dateResubmitted', ))"
   ]
  },
  {
   "cell_type": "markdown",
   "metadata": {},
   "source": [
    "### set NaN to None (for numeric fields)"
   ]
  },
  {
   "cell_type": "code",
   "execution_count": 90,
   "metadata": {
    "collapsed": true
   },
   "outputs": [],
   "source": [
    "fields = [\n",
    "    'subId',\n",
    "    'replicate',\n",
    "    'dataVersion',\n",
    "    'insertLength',\n",
    "    'expId',\n",
    "    'dateUnrestricted',\n",
    "    'dateSubmitted',\n",
    "    'dateResubmitted',\n",
    "]\n",
    "for fld in fields:\n",
    "    df[fld] = df[fld].where(pd.notnull(df[fld]), other=None)    "
   ]
  },
  {
   "cell_type": "code",
   "execution_count": 91,
   "metadata": {
    "collapsed": false
   },
   "outputs": [],
   "source": [
    "# coerce to string (some datetimes mixed in)\n",
    "df['dataVersion'] = df.dataVersion.astype(str)"
   ]
  },
  {
   "cell_type": "markdown",
   "metadata": {},
   "source": [
    "### Set extra content"
   ]
  },
  {
   "cell_type": "code",
   "execution_count": 92,
   "metadata": {
    "collapsed": false
   },
   "outputs": [
    {
     "name": "stdout",
     "output_type": "stream",
     "text": [
      "<class 'pandas.core.frame.DataFrame'>\n",
      "Int64Index: 4502 entries, 0 to 4501\n",
      "Data columns (total 68 columns):\n",
      "Name                    4502 non-null object\n",
      "Description             4502 non-null object\n",
      "plus_bigwig             685 non-null object\n",
      "minus_bigwig            685 non-null object\n",
      "ambig_bigwig            3817 non-null object\n",
      "genome_assembly         4502 non-null object\n",
      "dataType                4502 non-null object\n",
      "cell                    4502 non-null object\n",
      "antibody                4502 non-null object\n",
      "rnaExtract              4502 non-null object\n",
      "phase                   4502 non-null object\n",
      "treatment               4502 non-null object\n",
      "localization            4502 non-null object\n",
      "Valid                   0 non-null float64\n",
      "labExpId                4502 non-null object\n",
      "dccAccession            4502 non-null object\n",
      "controlId               4502 non-null object\n",
      "project                 4502 non-null object\n",
      "ambig_md5sum            4502 non-null object\n",
      "ambig_view              4502 non-null object\n",
      "subId                   4497 non-null object\n",
      "protocol                4502 non-null object\n",
      "replicate               2848 non-null object\n",
      "lab                     4502 non-null object\n",
      "type                    4502 non-null object\n",
      "ambig_tableName         4502 non-null object\n",
      "geoSampleAccession      4502 non-null object\n",
      "setType                 4502 non-null object\n",
      "dateUnrestricted        4356 non-null object\n",
      "dataVersion             4502 non-null object\n",
      "ambig_size              4502 non-null object\n",
      "composite               4502 non-null object\n",
      "grant                   4502 non-null object\n",
      "dateSubmitted           4491 non-null object\n",
      "origAssembly            4502 non-null object\n",
      "labVersion              4502 non-null object\n",
      "control                 4502 non-null object\n",
      "dateResubmitted         847 non-null object\n",
      "plus_md5sum             4502 non-null object\n",
      "readType                4502 non-null object\n",
      "plus_tableName          4502 non-null object\n",
      "plus_view               4502 non-null object\n",
      "minus_md5sum            4502 non-null object\n",
      "minus_tableName         4502 non-null object\n",
      "minus_size              4502 non-null object\n",
      "plus_size               4502 non-null object\n",
      "donorId                 4502 non-null object\n",
      "bioRep                  4502 non-null object\n",
      "minus_view              4502 non-null object\n",
      "seqPlatform             4502 non-null object\n",
      "spikeInPool             4502 non-null object\n",
      "sex                     4502 non-null object\n",
      "mapAlgorithm            4502 non-null object\n",
      "platform                4502 non-null object\n",
      "submittedDataVersion    4502 non-null object\n",
      "insertLength            62 non-null object\n",
      "expId                   21 non-null object\n",
      "labProtocolId           4502 non-null object\n",
      "uniqueness              4502 non-null object\n",
      "sourceObj               4502 non-null object\n",
      "softwareVersion         4502 non-null object\n",
      "age                     4502 non-null object\n",
      "strain                  4502 non-null object\n",
      "tissueSourceType        4502 non-null object\n",
      "_plus_bigwig_fn         4502 non-null object\n",
      "_minus_bigwig_fn        4502 non-null object\n",
      "_ambig_bigwig_fn        4502 non-null object\n",
      "_genome_assembly        4502 non-null int64\n",
      "dtypes: float64(1), int64(1), object(66)\n",
      "memory usage: 2.4+ MB\n"
     ]
    }
   ],
   "source": [
    "df.info()"
   ]
  },
  {
   "cell_type": "code",
   "execution_count": 93,
   "metadata": {
    "collapsed": false
   },
   "outputs": [],
   "source": [
    "extra_content_fields = [\n",
    "    'labExpId',\n",
    "    'dccAccession',\n",
    "    'controlId',\n",
    "    'project',\n",
    "    'ambig_md5sum',\n",
    "    'ambig_view',\n",
    "    'subId',\n",
    "    'protocol',\n",
    "    'replicate',\n",
    "    'lab',\n",
    "    'type',\n",
    "    'ambig_tableName',\n",
    "    'geoSampleAccession',\n",
    "    'setType',\n",
    "    'dateUnrestricted',\n",
    "    'dataVersion',\n",
    "    'ambig_size',\n",
    "    'composite',\n",
    "    'grant',\n",
    "    'dateSubmitted',\n",
    "    'origAssembly',\n",
    "    'labVersion',\n",
    "    'control',\n",
    "    'dateResubmitted',\n",
    "    'plus_md5sum',\n",
    "    'readType',\n",
    "    'plus_tableName',\n",
    "    'plus_view',\n",
    "    'minus_md5sum',\n",
    "    'minus_tableName',\n",
    "    'minus_size',\n",
    "    'plus_size',\n",
    "    'donorId',\n",
    "    'bioRep',\n",
    "    'minus_view',\n",
    "    'seqPlatform',\n",
    "    'spikeInPool',\n",
    "    'sex',\n",
    "    'mapAlgorithm',\n",
    "    'platform',\n",
    "    'submittedDataVersion',\n",
    "    'insertLength',\n",
    "    'expId',\n",
    "    'labProtocolId',\n",
    "    'uniqueness',\n",
    "    'sourceObj',\n",
    "    'softwareVersion',\n",
    "    'age',\n",
    "    'strain',\n",
    "    'tissueSourceType',\n",
    "]\n",
    "\n",
    "dtype_datetime = np.dtype('datetime64[ns]')\n",
    "\n",
    "def getExtraContent(d):\n",
    "    content = {}\n",
    "    for fld in extra_content_fields:\n",
    "        val = d[fld]\n",
    "        if val and val is not pd.NaT:\n",
    "            if df[fld].dtype is dtype_datetime:\n",
    "                content[fld] = d[fld].toordinal()\n",
    "            elif val is not np.NaN:\n",
    "                content[fld] = d[fld]\n",
    "    return content    "
   ]
  },
  {
   "cell_type": "markdown",
   "metadata": {},
   "source": [
    "### Create objects!"
   ]
  },
  {
   "cell_type": "code",
   "execution_count": 94,
   "metadata": {
    "collapsed": false
   },
   "outputs": [],
   "source": [
    "for i, d in df.iterrows():\n",
    "    extra_content = getExtraContent(d)\n",
    "    object_ = models.EncodeDataset(\n",
    "        name=d.Name,\n",
    "        public=True,\n",
    "        genome_assembly=d._genome_assembly,\n",
    "        data_type=d.dataType,\n",
    "        cell_type=d.cell,\n",
    "        antibody=d.antibody,\n",
    "        rna_extract=d.rnaExtract,\n",
    "        treatment=d.treatment,\n",
    "        phase=d.phase,\n",
    "        localization=d.localization,    \n",
    "        extra_content = extra_content   \n",
    "    )\n",
    "    \n",
    "    if len(d._ambig_bigwig_fn) > 0:\n",
    "        object_.data_ambiguous.name = d._ambig_bigwig_fn\n",
    "    \n",
    "    if len(d._plus_bigwig_fn) > 0:\n",
    "        object_.data_plus.name = d._plus_bigwig_fn\n",
    "    \n",
    "    if len(d._minus_bigwig_fn) > 0:\n",
    "        object_.data_minus.name = d._minus_bigwig_fn\n",
    "    \n",
    "    object_.save()"
   ]
  }
 ],
 "metadata": {
  "kernelspec": {
   "display_name": "Django Shell-Plus",
   "language": "python",
   "name": "django_extensions"
  },
  "language_info": {
   "codemirror_mode": {
    "name": "ipython",
    "version": 3
   },
   "file_extension": ".py",
   "mimetype": "text/x-python",
   "name": "python",
   "nbconvert_exporter": "python",
   "pygments_lexer": "ipython3",
   "version": "3.5.0"
  }
 },
 "nbformat": 4,
 "nbformat_minor": 0
}
