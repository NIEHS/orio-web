{
 "cells": [
  {
   "cell_type": "code",
   "execution_count": null,
   "metadata": {
    "collapsed": false
   },
   "outputs": [],
   "source": [
    "import os\n",
    "import pickle as pkl\n",
    "import json\n",
    "import pandas as pd"
   ]
  },
  {
   "cell_type": "code",
   "execution_count": null,
   "metadata": {
    "collapsed": false
   },
   "outputs": [],
   "source": [
    "fn = os.path.expanduser('/Users/shapiroaj4/Desktop/analysis.pkl')\n",
    "with open(fn, 'rb') as f:\n",
    "    df = pkl.load(f)"
   ]
  },
  {
   "cell_type": "code",
   "execution_count": null,
   "metadata": {
    "collapsed": false
   },
   "outputs": [],
   "source": [
    "df.info()\n",
    "df.head()"
   ]
  },
  {
   "cell_type": "code",
   "execution_count": null,
   "metadata": {
    "collapsed": false
   },
   "outputs": [],
   "source": [
    "%matplotlib inline\n",
    "import numpy as np\n",
    "import matplotlib.pyplot as plt\n",
    "import matplotlib.cm as cm\n",
    "import pandas as pd\n",
    "from scipy import stats\n",
    "\n",
    "pd.options.display.mpl_style = 'default'  # ggplot"
   ]
  },
  {
   "cell_type": "code",
   "execution_count": null,
   "metadata": {
    "collapsed": false
   },
   "outputs": [],
   "source": [
    "for fl in sorted(df.features.unique()):\n",
    "    subset = df[df.features==fl]\n",
    "    f = subset.plot(kind='scatter', x='datasets', y='seconds', figsize=(12, 8))\n",
    "    f.hold= True\n",
    "    m = stats.linregress(x=subset.datasets.values, y=subset.seconds.values)\n",
    "    xs = np.arange(0, subset.datasets.max()*1.2, 1)\n",
    "    ys = m.intercept + m.slope * xs\n",
    "    f.plot(xs, ys, 'r-')\n",
    "    f.set_title('Number of feature: {}'.format(fl))\n",
    "    print(m)"
   ]
  },
  {
   "cell_type": "code",
   "execution_count": null,
   "metadata": {
    "collapsed": false
   },
   "outputs": [],
   "source": [
    "import matplotlib.pyplot as plt\n",
    "plt.set_cmap(cm.gist_earth)\n",
    "\n",
    "res2 = df.groupby(['features', 'datasets']).mean()\n",
    "res2.head()\n",
    "\n",
    "X=res2.index.levels[0].values\n",
    "Y=res2.index.levels[1].values\n",
    "Z=res2.unstack(level=0).seconds.values\n",
    "\n",
    "plt.figure(figsize=(12, 8))\n",
    "ct = plt.contour(X, Y, Z)\n",
    "\n",
    "plt.clabel(ct, inline=1, fmt='%d', fontsize=12)\n",
    "plt.xlabel('N features')\n",
    "plt.ylabel('N datasets')\n",
    "plt.title('Total runtime for ORIO analysis')\n",
    "\n",
    "plt.colorbar(ct, orientation='horizontal', shrink=0.8)"
   ]
  },
  {
   "cell_type": "code",
   "execution_count": null,
   "metadata": {
    "collapsed": false
   },
   "outputs": [],
   "source": [
    "fig = plt.figure(figsize=(12, 10))\n",
    "plt.contourf(X, Y, np.log10(Z), 100)\n",
    "plt.colorbar()                                    "
   ]
  },
  {
   "cell_type": "code",
   "execution_count": null,
   "metadata": {
    "collapsed": true
   },
   "outputs": [],
   "source": [
    "pd.DataFrame(res2.to_records()).to_csv('~/Desktop/foo.csv', index=False)"
   ]
  },
  {
   "cell_type": "markdown",
   "metadata": {},
   "source": [
    "# Creating a conditional format table"
   ]
  },
  {
   "cell_type": "code",
   "execution_count": null,
   "metadata": {
    "collapsed": false
   },
   "outputs": [],
   "source": [
    "cf = df[['features', 'datasets', 'seconds']]\n",
    "cf = cf.groupby(['features', 'datasets']).mean()\n",
    "cf.reset_index(inplace=True)\n",
    "cf.head()"
   ]
  },
  {
   "cell_type": "code",
   "execution_count": null,
   "metadata": {
    "collapsed": false
   },
   "outputs": [],
   "source": [
    "cf2 = cf.pivot(index='features', columns='datasets', values='seconds')\n",
    "cf2"
   ]
  },
  {
   "cell_type": "code",
   "execution_count": null,
   "metadata": {
    "collapsed": false
   },
   "outputs": [],
   "source": [
    "import seaborn as sns\n",
    "\n",
    "cm = sns.cubehelix_palette(dark=0.4, light=.95, as_cmap=True)\n",
    "cf2.style\\\n",
    "    .background_gradient(cmap=cm)\\\n",
    "    .format(\"{0:0.0f}\")"
   ]
  }
 ],
 "metadata": {
  "kernelspec": {
   "display_name": "Python 3",
   "language": "python",
   "name": "python3"
  },
  "language_info": {
   "codemirror_mode": {
    "name": "ipython",
    "version": 3
   },
   "file_extension": ".py",
   "mimetype": "text/x-python",
   "name": "python",
   "nbconvert_exporter": "python",
   "pygments_lexer": "ipython3",
   "version": "3.5.1"
  }
 },
 "nbformat": 4,
 "nbformat_minor": 0
}
