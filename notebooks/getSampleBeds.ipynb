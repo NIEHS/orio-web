{
 "cells": [
  {
   "cell_type": "code",
   "execution_count": 9,
   "metadata": {
    "collapsed": true
   },
   "outputs": [],
   "source": [
    "import mysql.connector\n",
    "import csv\n",
    "import os\n",
    "import sys\n",
    "\n",
    "from datetime import datetime\n",
    "from collections import defaultdict"
   ]
  },
  {
   "cell_type": "code",
   "execution_count": 10,
   "metadata": {
    "collapsed": false
   },
   "outputs": [],
   "source": [
    "# cnx = mysql.connector.connect(\n",
    "#     user='genome', \n",
    "#     host='genome-mysql.cse.ucsc.edu',\n",
    "#     database='hg19',\n",
    "# )\n",
    "# cursor = cnx.cursor()\n",
    "# cursor.execute('SHOW COLUMNS FROM refGene')\n",
    "# for entry in cursor:\n",
    "#     print(entry[0])"
   ]
  },
  {
   "cell_type": "code",
   "execution_count": 11,
   "metadata": {
    "collapsed": false
   },
   "outputs": [],
   "source": [
    "def getTranscripts(assembly):\n",
    "    cnx = mysql.connector.connect(\n",
    "        user='genome', \n",
    "        host='genome-mysql.cse.ucsc.edu',\n",
    "        database=assembly,\n",
    "    )\n",
    "    cursor = cnx.cursor(dictionary=True)\n",
    "    cursor.execute('SELECT name,name2,exonStarts,exonEnds,strand,chrom FROM refGene')\n",
    "\n",
    "    transcripts = []\n",
    "    for entry in cursor:\n",
    "       transcripts.append(entry)\n",
    "    \n",
    "    return transcripts"
   ]
  },
  {
   "cell_type": "code",
   "execution_count": 12,
   "metadata": {
    "collapsed": false
   },
   "outputs": [],
   "source": [
    "def createOutputFiles(transcripts, assembly, name):\n",
    "\n",
    "    def writeHeader(OUTPUT, name, description):\n",
    "        OUTPUT.write('track name={} description=\"{}\"\\n'.format(\n",
    "            name,\n",
    "            description,\n",
    "        ))\n",
    "        \n",
    "#     def writeBedEntry(writer, transcript, coordinate):\n",
    "#         writer.writerow([\n",
    "#             transcript['chrom'],\n",
    "#             str(int(coordinate)-1),\n",
    "#             str(coordinate),\n",
    "#             transcript['name'],\n",
    "#             '0',\n",
    "#             transcript['strand'],\n",
    "#         ])\n",
    "        \n",
    "    def getPosition(transcript, coordinate):\n",
    "        return (\n",
    "            transcript['chrom'],\n",
    "            transcript['strand'],\n",
    "            str(coordinate),\n",
    "        )\n",
    "    \n",
    "    def writeEntries(_dict, writer):\n",
    "        sorted_positions = sorted(_dict, key=lambda x: (x[1], x[0], int(x[2])))\n",
    "        for pos in sorted_positions:\n",
    "            chrom, strand, coordinate = pos\n",
    "            joined_name = ','.join(_dict[pos])\n",
    "            writer.writerow([\n",
    "                chrom,\n",
    "                str(int(coordinate)-1),\n",
    "                str(coordinate),\n",
    "                joined_name,\n",
    "                '0',\n",
    "                strand,\n",
    "            ])\n",
    "    \n",
    "    tss_fn = name + '_tss.bed'\n",
    "    tes_fn = name + '_tes.bed'\n",
    "    splice_donor_fn = name + '_spliceDonors.bed'\n",
    "    splice_acceptor_fn = name + '_spliceAcceptors.bed'\n",
    "    \n",
    "    TSS_OUT = open(tss_fn, 'w')\n",
    "    TES_OUT = open(tes_fn, 'w')\n",
    "    SPLICE_DONOR_OUT = open(splice_donor_fn, 'w')\n",
    "    SPLICE_ACCEPTOR_OUT = open(splice_acceptor_fn, 'w')\n",
    "\n",
    "    writeHeader(TSS_OUT, tss_fn, 'RefGene TSS: {}, {}'.format(assembly, datetime.now().date()))\n",
    "    writeHeader(TES_OUT, tes_fn, 'RefGene TES: {}, {}'.format(assembly, datetime.now().date()))\n",
    "    writeHeader(SPLICE_DONOR_OUT, splice_donor_fn,\n",
    "                'RefGene Splice Donors: {}, {}'.format(assembly, datetime.now().date()))\n",
    "    writeHeader(SPLICE_ACCEPTOR_OUT, splice_acceptor_fn,\n",
    "                'RefGene Splice Acceptors: {}, {}'.format(assembly, datetime.now().date()))\n",
    "    \n",
    "    tss_writer = csv.writer(TSS_OUT, delimiter='\\t')\n",
    "    tes_writer = csv.writer(TES_OUT, delimiter='\\t')\n",
    "    splice_donor_writer = csv.writer(SPLICE_DONOR_OUT, delimiter='\\t')\n",
    "    splice_acceptor_writer = csv.writer(SPLICE_ACCEPTOR_OUT, delimiter='\\t')\n",
    "    \n",
    "    tss_dict = defaultdict(list)\n",
    "    tes_dict = defaultdict(list)\n",
    "    splice_donor_dict = defaultdict(list)\n",
    "    splice_acceptor_dict = defaultdict(list)\n",
    "        \n",
    "    for transcript in transcripts:\n",
    "        exon_starts = transcript['exonStarts'].decode('utf-8').split(',')[:-1]\n",
    "        exon_ends = transcript['exonEnds'].decode('utf-8').split(',')[:-1]\n",
    "        \n",
    "        exons = []\n",
    "        for start, end in zip(exon_starts, exon_ends):\n",
    "            exons.append([start, end])\n",
    "        exons.sort(key=lambda x: int(x[0]))\n",
    "        \n",
    "        donors = []\n",
    "        acceptors = []\n",
    "        if transcript['strand'] == '+':\n",
    "            tss = exons[0][0]\n",
    "            tes = exons[-1][1]\n",
    "            for exon in exons[:-1]:\n",
    "                donors.append(exon[1])\n",
    "            for exon in exons[1:]:\n",
    "                acceptors.append(exon[0])\n",
    "        elif transcript['strand'] == '-':\n",
    "            tss = exons[-1][1]\n",
    "            tes = exons[0][0]\n",
    "            for exon in exons[1:]:\n",
    "                donors.append(exon[0])\n",
    "            for exon in exons[:-1]:\n",
    "                acceptors.append(exon[1])\n",
    "                \n",
    "        tss_dict[getPosition(transcript, tss)].append(transcript['name'])\n",
    "        tes_dict[getPosition(transcript, tes)].append(transcript['name'])\n",
    "        for donor in donors:\n",
    "            splice_donor_dict[getPosition(transcript, donor)].append(transcript['name'])\n",
    "        for acceptor in acceptors:\n",
    "            splice_acceptor_dict[getPosition(transcript, acceptor)].append(transcript['name'])\n",
    "                \n",
    "#         writeBedEntry(tss_writer, transcript, tss)\n",
    "#         writeBedEntry(tes_writer, transcript, tes)\n",
    "#         for donor in donors:\n",
    "#             writeBedEntry(splice_donor_writer, transcript, donor)\n",
    "#         for acceptor in acceptors:\n",
    "#             writeBedEntry(splice_acceptor_writer, transcript, acceptor)\n",
    "\n",
    "    writeEntries(tss_dict, tss_writer)\n",
    "    writeEntries(tes_dict, tes_writer)\n",
    "    writeEntries(splice_donor_dict, splice_donor_writer)\n",
    "    writeEntries(splice_acceptor_dict, splice_acceptor_writer)\n",
    "                \n",
    "    TSS_OUT.close()\n",
    "    TES_OUT.close()\n",
    "    SPLICE_DONOR_OUT.close()\n",
    "    SPLICE_ACCEPTOR_OUT.close()"
   ]
  },
  {
   "cell_type": "code",
   "execution_count": 22,
   "metadata": {
    "collapsed": true
   },
   "outputs": [],
   "source": [
    "def renameDuplicateEntries(transcripts):\n",
    "    name_count = defaultdict(int)\n",
    "    \n",
    "    for transcript in transcripts:\n",
    "        name_count[transcript['name']] += 1\n",
    "        transcript['name'] = transcript['name'] + ':' + str(name_count[transcript['name']])"
   ]
  },
  {
   "cell_type": "code",
   "execution_count": 23,
   "metadata": {
    "collapsed": false
   },
   "outputs": [],
   "source": [
    "# transcripts = getTranscripts('mm9')"
   ]
  },
  {
   "cell_type": "code",
   "execution_count": 24,
   "metadata": {
    "collapsed": false
   },
   "outputs": [],
   "source": [
    "# createOutputFiles(transcripts, 'mm9', 'test')"
   ]
  },
  {
   "cell_type": "code",
   "execution_count": 25,
   "metadata": {
    "collapsed": false
   },
   "outputs": [],
   "source": [
    "for assembly in ['mm9', 'hg19']:\n",
    "    transcripts = getTranscripts(assembly)\n",
    "    renameDuplicateEntries(transcripts)\n",
    "    createOutputFiles(transcripts, assembly, assembly)"
   ]
  },
  {
   "cell_type": "code",
   "execution_count": null,
   "metadata": {
    "collapsed": true
   },
   "outputs": [],
   "source": []
  }
 ],
 "metadata": {
  "kernelspec": {
   "display_name": "Django Shell-Plus",
   "language": "python",
   "name": "django_extensions"
  },
  "language_info": {
   "codemirror_mode": {
    "name": "ipython",
    "version": 3
   },
   "file_extension": ".py",
   "mimetype": "text/x-python",
   "name": "python",
   "nbconvert_exporter": "python",
   "pygments_lexer": "ipython3",
   "version": "3.4.3"
  }
 },
 "nbformat": 4,
 "nbformat_minor": 0
}
