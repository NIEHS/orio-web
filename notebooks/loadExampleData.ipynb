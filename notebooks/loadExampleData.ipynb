{
 "cells": [
  {
   "cell_type": "markdown",
   "metadata": {},
   "source": [
    "# Load example data\n",
    "\n",
    "This loads example output files which can be used to create visualizations while the rest of the software is under construction. \n",
    "\n",
    "It will remove all previous outputs from the database.\n",
    "\n",
    "It requires the `sample_data_set` folder to be in the root, specified below.\n",
    "\n",
    "It requires at least one user to be created."
   ]
  },
  {
   "cell_type": "code",
   "execution_count": null,
   "metadata": {
    "collapsed": false
   },
   "outputs": [],
   "source": [
    "import os\n",
    "from analysis import models\n",
    "from myuser.models import User"
   ]
  },
  {
   "cell_type": "code",
   "execution_count": null,
   "metadata": {
    "collapsed": false
   },
   "outputs": [],
   "source": [
    "example_root = os.path.abspath('/Users/shapiroaj4/Desktop/sample_data_set')\n",
    "assert os.path.exists(example_root)"
   ]
  },
  {
   "cell_type": "code",
   "execution_count": null,
   "metadata": {
    "collapsed": true
   },
   "outputs": [],
   "source": [
    "# get first user; you must create one if needed\n",
    "user = User.objects.all()[0]"
   ]
  },
  {
   "cell_type": "code",
   "execution_count": null,
   "metadata": {
    "collapsed": false
   },
   "outputs": [],
   "source": [
    "print(user.email)"
   ]
  },
  {
   "cell_type": "code",
   "execution_count": null,
   "metadata": {
    "collapsed": false
   },
   "outputs": [],
   "source": [
    "# delete all the old stuff\n",
    "models.FeatureList.objects.all().delete()\n",
    "models.Analysis.objects.all().delete()\n",
    "models.FeatureListCountMatrix.objects.all().delete()"
   ]
  },
  {
   "cell_type": "code",
   "execution_count": null,
   "metadata": {
    "collapsed": false
   },
   "outputs": [],
   "source": [
    "fl = models.FeatureList.objects.create(\n",
    "    owner=user,\n",
    "    name='demo1',\n",
    "    genome_assembly=1,\n",
    "    stranded=True,\n",
    ")\n",
    "fl.dataset.name = os.path.join(example_root, 'unt1hr.obsTSS.bed')\n",
    "fl.save()"
   ]
  },
  {
   "cell_type": "code",
   "execution_count": null,
   "metadata": {
    "collapsed": false
   },
   "outputs": [],
   "source": [
    "an = models.Analysis.objects.create(\n",
    "    owner=user,\n",
    "    name='demo1',\n",
    "    genome_assembly=1,\n",
    "    feature_list=fl,\n",
    "    sort_vector=None,\n",
    ")"
   ]
  },
  {
   "cell_type": "code",
   "execution_count": null,
   "metadata": {
    "collapsed": false
   },
   "outputs": [],
   "source": [
    "ds = models.EncodeDataset.objects.all()[0]\n",
    "mat_dir = os.path.join(example_root, 'individual_matrices')\n",
    "for fn in os.listdir(mat_dir):\n",
    "    cm = models.FeatureListCountMatrix.objects.create(\n",
    "        feature_list=fl,\n",
    "        dataset=ds,\n",
    "        matrix=os.path.join(mat_dir, fn)\n",
    "    )\n",
    "    \n",
    "    adm = models.AnalysisDatasets.objects.create(\n",
    "        analysis=an,\n",
    "        dataset=ds,\n",
    "        display_name=os.path.splitext(os.path.basename(fn)),\n",
    "        count_matrix=cm\n",
    "    )\n",
    "    \n",
    "    an.analysisdatasets_set.add(adm)"
   ]
  },
  {
   "cell_type": "code",
   "execution_count": null,
   "metadata": {
    "collapsed": false
   },
   "outputs": [],
   "source": [
    "dcm = models.DatasetCorrelationMatrix.objects.create(\n",
    "    analysis=an,\n",
    "    matrix=os.path.join(example_root, 'analysis_output.json')\n",
    ")"
   ]
  },
  {
   "cell_type": "code",
   "execution_count": null,
   "metadata": {
    "collapsed": false
   },
   "outputs": [],
   "source": [
    "from django.core.urlresolvers import reverse\n",
    "print(reverse('analysis:visual_testing', args=[an.id]))"
   ]
  }
 ],
 "metadata": {
  "kernelspec": {
   "display_name": "Django Shell-Plus",
   "language": "python",
   "name": "django_extensions"
  },
  "language_info": {
   "codemirror_mode": {
    "name": "ipython",
    "version": 3
   },
   "file_extension": ".py",
   "mimetype": "text/x-python",
   "name": "python",
   "nbconvert_exporter": "python",
   "pygments_lexer": "ipython3",
   "version": "3.5.0"
  }
 },
 "nbformat": 4,
 "nbformat_minor": 0
}
